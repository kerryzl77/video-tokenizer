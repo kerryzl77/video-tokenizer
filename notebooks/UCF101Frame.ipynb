{
  "nbformat": 4,
  "nbformat_minor": 0,
  "metadata": {
    "colab": {
      "provenance": []
    },
    "kernelspec": {
      "name": "python3",
      "display_name": "Python 3"
    },
    "language_info": {
      "name": "python"
    }
  },
  "cells": [
    {
      "cell_type": "code",
      "source": [
        "import os\n",
        "import cv2\n",
        "import re\n",
        "import numpy as np"
      ],
      "metadata": {
        "id": "rqEQvQcVDkFk"
      },
      "execution_count": 7,
      "outputs": []
    },
    {
      "cell_type": "code",
      "source": [
        "# !rm -rf /content/UCF101/UCF101/*"
      ],
      "metadata": {
        "id": "ju2qiQzRtN5o"
      },
      "execution_count": 1,
      "outputs": []
    },
    {
      "cell_type": "code",
      "source": [
        "!wget \\\n",
        "  --user=YOUR_USERNAME \\\n",
        "  --password=THUMOS14_REGISTERED \\\n",
        "  --no-check-certificate \\\n",
        "  \"https://www.crcv.ucf.edu/THUMOS14/UCF101/UCF101.zip\" \\\n",
        "  -O UCF101.zip"
      ],
      "metadata": {
        "colab": {
          "base_uri": "https://localhost:8080/"
        },
        "id": "yJdk8bixG3Tr",
        "outputId": "c3013f69-27c9-485c-b663-30168f802e1a"
      },
      "execution_count": 2,
      "outputs": [
        {
          "output_type": "stream",
          "name": "stdout",
          "text": [
            "--2025-04-24 02:52:16--  https://www.crcv.ucf.edu/THUMOS14/UCF101/UCF101.zip\n",
            "Resolving www.crcv.ucf.edu (www.crcv.ucf.edu)... 132.170.214.127\n",
            "Connecting to www.crcv.ucf.edu (www.crcv.ucf.edu)|132.170.214.127|:443... connected.\n",
            "WARNING: cannot verify www.crcv.ucf.edu's certificate, issued by ‘CN=InCommon RSA Server CA 2,O=Internet2,C=US’:\n",
            "  Unable to locally verify the issuer's authority.\n",
            "HTTP request sent, awaiting response... 200 OK\n",
            "Length: 6960400115 (6.5G) [application/zip]\n",
            "Saving to: ‘UCF101.zip’\n",
            "\n",
            "UCF101.zip          100%[===================>]   6.48G   147MB/s    in 52s     \n",
            "\n",
            "2025-04-24 02:53:08 (128 MB/s) - ‘UCF101.zip’ saved [6960400115/6960400115]\n",
            "\n"
          ]
        }
      ]
    },
    {
      "cell_type": "code",
      "source": [
        "!unzip -q UCF101.zip -d UCF101"
      ],
      "metadata": {
        "id": "ldlX8qC4sGug"
      },
      "execution_count": 3,
      "outputs": []
    },
    {
      "cell_type": "code",
      "execution_count": 8,
      "metadata": {
        "colab": {
          "base_uri": "https://localhost:8080/"
        },
        "id": "fnx9lBxmDg2O",
        "outputId": "a05a2ae0-fd5e-4aca-f903-d91a2809290d"
      },
      "outputs": [
        {
          "output_type": "stream",
          "name": "stdout",
          "text": [
            "Slowest motion class: TaiChi\n",
            "  Video: v_TaiChi_g01_c01.avi\n",
            "  AvgFlow: 0.0468\n",
            "\n",
            "Fastest motion class: PoleVault\n",
            "  Video: v_PoleVault_g01_c01.avi\n",
            "  AvgFlow: 4.4034\n"
          ]
        }
      ],
      "source": [
        "# 1) Point to your flat folder\n",
        "UCF_ROOT = \"UCF101/UCF101/\"  # e.g. /content/UCF101/UCF101/\n",
        "\n",
        "# 2) Build one sample per class by parsing filenames\n",
        "def list_ucf_sample_per_class(root=UCF_ROOT):\n",
        "    samples = {}\n",
        "    for fname in sorted(os.listdir(root)):\n",
        "        if not fname.endswith(\".avi\"):\n",
        "            continue\n",
        "        # extract class name between first and second underscore\n",
        "        # e.g. v_ApplyEyeMakeup_g01_c01.avi → ApplyEyeMakeup\n",
        "        cls = fname.split(\"_\")[1]\n",
        "        if cls not in samples:\n",
        "            samples[cls] = os.path.join(root, fname)\n",
        "    return samples  # {class: full_path_to_sample.avi}\n",
        "\n",
        "# 3) Optical-flow motion metric\n",
        "def compute_avg_flow(video_path):\n",
        "    cap = cv2.VideoCapture(video_path)\n",
        "    ret, prev = cap.read()\n",
        "    if not ret:\n",
        "        cap.release()\n",
        "        return 0.0\n",
        "    prev_gray = cv2.cvtColor(prev, cv2.COLOR_BGR2GRAY)\n",
        "    flows = []\n",
        "    while True:\n",
        "        ret, frame = cap.read()\n",
        "        if not ret:\n",
        "            break\n",
        "        curr_gray = cv2.cvtColor(frame, cv2.COLOR_BGR2GRAY)\n",
        "        flow = cv2.calcOpticalFlowFarneback(\n",
        "            prev_gray, curr_gray, None,\n",
        "            pyr_scale=0.5, levels=3, winsize=15,\n",
        "            iterations=3, poly_n=5, poly_sigma=1.2, flags=0\n",
        "        )\n",
        "        mag, _ = cv2.cartToPolar(flow[...,0], flow[...,1])\n",
        "        flows.append(np.mean(mag))\n",
        "        prev_gray = curr_gray\n",
        "    cap.release()\n",
        "    return float(np.mean(flows)) if flows else 0.0\n",
        "\n",
        "# 4) Compute motion for each sampled class\n",
        "samples = list_ucf_sample_per_class()\n",
        "motion_stats = []\n",
        "for cls, path in samples.items():\n",
        "    avg_flow = compute_avg_flow(path)\n",
        "    vid = os.path.basename(path)\n",
        "    motion_stats.append((cls, vid, avg_flow))\n",
        "\n",
        "# 5) Sort and pick extremes\n",
        "motion_stats.sort(key=lambda x: x[2])\n",
        "slowest_cls, slowest_vid, slowest_val = motion_stats[0]\n",
        "fastest_cls, fastest_vid, fastest_val = motion_stats[-1]\n",
        "\n",
        "# 6) Report\n",
        "print(f\"Slowest motion class: {slowest_cls}\")\n",
        "print(f\"  Video: {slowest_vid}\")\n",
        "print(f\"  AvgFlow: {slowest_val:.4f}\\n\")\n",
        "\n",
        "print(f\"Fastest motion class: {fastest_cls}\")\n",
        "print(f\"  Video: {fastest_vid}\")\n",
        "print(f\"  AvgFlow: {fastest_val:.4f}\")"
      ]
    },
    {
      "cell_type": "code",
      "source": [
        "# Download both TaiChi and PoleVault samples into /content/UCF101/UCF101/\n",
        "!wget \\\n",
        "  --user=YOUR_USERNAME \\\n",
        "  --password=THUMOS14_REGISTERED \\\n",
        "  --no-check-certificate \\\n",
        "  \"https://www.crcv.ucf.edu/THUMOS14/UCF101/UCF101/v_TaiChi_g01_c01.avi\" \\\n",
        "  \"https://www.crcv.ucf.edu/THUMOS14/UCF101/UCF101/v_PoleVault_g01_c01.avi\"\n"
      ],
      "metadata": {
        "colab": {
          "base_uri": "https://localhost:8080/"
        },
        "id": "5Hbjla6hDxoW",
        "outputId": "899605b9-c1c7-4014-b1eb-e2ee775aaaa4"
      },
      "execution_count": 11,
      "outputs": [
        {
          "output_type": "stream",
          "name": "stdout",
          "text": [
            "--2025-04-24 03:12:42--  https://www.crcv.ucf.edu/THUMOS14/UCF101/UCF101/v_TaiChi_g01_c01.avi\n",
            "Resolving www.crcv.ucf.edu (www.crcv.ucf.edu)... 132.170.214.127\n",
            "Connecting to www.crcv.ucf.edu (www.crcv.ucf.edu)|132.170.214.127|:443... connected.\n",
            "WARNING: cannot verify www.crcv.ucf.edu's certificate, issued by ‘CN=InCommon RSA Server CA 2,O=Internet2,C=US’:\n",
            "  Unable to locally verify the issuer's authority.\n",
            "HTTP request sent, awaiting response... 200 OK\n",
            "Length: 477440 (466K) [video/x-msvideo]\n",
            "Saving to: ‘v_TaiChi_g01_c01.avi’\n",
            "\n",
            "v_TaiChi_g01_c01.av 100%[===================>] 466.25K  2.36MB/s    in 0.2s    \n",
            "\n",
            "2025-04-24 03:12:42 (2.36 MB/s) - ‘v_TaiChi_g01_c01.avi’ saved [477440/477440]\n",
            "\n",
            "--2025-04-24 03:12:42--  https://www.crcv.ucf.edu/THUMOS14/UCF101/UCF101/v_PoleVault_g01_c01.avi\n",
            "Reusing existing connection to www.crcv.ucf.edu:443.\n",
            "HTTP request sent, awaiting response... 200 OK\n",
            "Length: 438702 (428K) [video/x-msvideo]\n",
            "Saving to: ‘v_PoleVault_g01_c01.avi’\n",
            "\n",
            "v_PoleVault_g01_c01 100%[===================>] 428.42K  --.-KB/s    in 0.002s  \n",
            "\n",
            "2025-04-24 03:12:42 (271 MB/s) - ‘v_PoleVault_g01_c01.avi’ saved [438702/438702]\n",
            "\n",
            "FINISHED --2025-04-24 03:12:42--\n",
            "Total wall clock time: 0.5s\n",
            "Downloaded: 2 files, 895K in 0.2s (4.50 MB/s)\n"
          ]
        }
      ]
    },
    {
      "cell_type": "code",
      "source": [],
      "metadata": {
        "id": "7YjRutKgx70S"
      },
      "execution_count": null,
      "outputs": []
    }
  ]
}